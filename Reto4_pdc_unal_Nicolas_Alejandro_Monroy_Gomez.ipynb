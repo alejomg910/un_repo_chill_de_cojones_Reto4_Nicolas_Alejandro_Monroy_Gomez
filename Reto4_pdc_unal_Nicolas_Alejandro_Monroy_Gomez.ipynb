{
  "nbformat": 4,
  "nbformat_minor": 0,
  "metadata": {
    "colab": {
      "provenance": []
    },
    "kernelspec": {
      "name": "python3",
      "display_name": "Python 3"
    },
    "language_info": {
      "name": "python"
    }
  },
  "cells": [
    {
      "cell_type": "markdown",
      "source": [
        "1. Dado un número entero, determinar si ese número corresponde al código ASCII de una vocal minúscula.\n"
      ],
      "metadata": {
        "id": "lwK8efC4ySpb"
      }
    },
    {
      "cell_type": "code",
      "execution_count": null,
      "metadata": {
        "colab": {
          "base_uri": "https://localhost:8080/"
        },
        "id": "5qEM01oHyNxr",
        "outputId": "112d18f0-a664-4fb6-d565-c95f03b318e9"
      },
      "outputs": [
        {
          "output_type": "stream",
          "name": "stdout",
          "text": [
            "Ingresa un entero: 88\n",
            "El número no corresponde a una vocal minúscula en ASCII\n"
          ]
        }
      ],
      "source": [
        "n : int\n",
        "n = int(input(\"Ingresa un entero: \"))\n",
        "valor_ascii = chr(n)\n",
        "if valor_ascii == 'a':\n",
        "  print (valor_ascii)\n",
        "elif valor_ascii == 'e':\n",
        "  print (valor_ascii)\n",
        "elif valor_ascii == 'i':\n",
        "  print (valor_ascii)\n",
        "elif valor_ascii == 'o':\n",
        "  print (valor_ascii)\n",
        "elif valor_ascii == 'u':\n",
        "  print (valor_ascii)\n",
        "else:\n",
        "  print (\"El número no corresponde a una vocal minúscula en ASCII\")"
      ]
    },
    {
      "cell_type": "markdown",
      "source": [
        "2. Dada una cadena de longitud 1, determine si el código ASCII de primera letra de la cadena es par o no.\n"
      ],
      "metadata": {
        "id": "zv_gbqoxyZnL"
      }
    },
    {
      "cell_type": "code",
      "source": [
        "chain : str\n",
        "chain = str(input(\"Ingresa una cadena de caracter: \"))\n",
        "codigo_ascii = ord(chain[0])\n",
        "\n",
        "if codigo_ascii % 2 == 0:\n",
        "  print(\"El primer caracter es par\")\n",
        "else:\n",
        "  print(\"El primer caracter no es par\")"
      ],
      "metadata": {
        "id": "M9CP4E4vyeXc",
        "colab": {
          "base_uri": "https://localhost:8080/"
        },
        "outputId": "f68d377c-7e4e-46f7-ed16-fb8908f884ee"
      },
      "execution_count": null,
      "outputs": [
        {
          "output_type": "stream",
          "name": "stdout",
          "text": [
            "Ingresa una cadena de caracter: Baobab\n",
            "El primer caracter es par\n"
          ]
        }
      ]
    },
    {
      "cell_type": "markdown",
      "source": [
        "3. Dado un carácter, construya un programa en Python para determinar si el carácter es un dígito o no."
      ],
      "metadata": {
        "id": "1O-5sPGNyepS"
      }
    },
    {
      "cell_type": "code",
      "source": [
        "charac : str\n",
        "charac = str(input(\"Ingresa solo un caracter: \"))\n",
        "\n",
        "if charac == \"1\":\n",
        "  print(\"El caracter es un digito\")\n",
        "elif charac == \"2\":\n",
        "  print(\"El caracter es un digito\")\n",
        "elif charac == \"3\":\n",
        "  print(\"El caracter es un digito\")\n",
        "elif charac == \"4\":\n",
        "  print(\"El caracter es un digito\")\n",
        "elif charac == \"5\":\n",
        "  print(\"El caracter es un digito\")\n",
        "elif charac == \"6\":\n",
        "  print(\"El caracter es un digito\")\n",
        "elif charac == \"7\":\n",
        "  print(\"El caracter es un digito\")\n",
        "elif charac == \"8\":\n",
        "  print(\"El caracter es un digito\")\n",
        "elif charac == \"9\":\n",
        "  print(\"El caracter es un digito\")\n",
        "elif charac == \"0\":\n",
        "  print(\"El caracter es un digito\")\n",
        "else:\n",
        "  print(\"El caracter no es un digito\")"
      ],
      "metadata": {
        "id": "yyzSKCvayjzK",
        "colab": {
          "base_uri": "https://localhost:8080/"
        },
        "outputId": "4b72bef5-29be-468e-e417-981199f45566"
      },
      "execution_count": null,
      "outputs": [
        {
          "output_type": "stream",
          "name": "stdout",
          "text": [
            "Ingresa solo un caracter: 9\n",
            "El caracter es un digito\n"
          ]
        }
      ]
    },
    {
      "cell_type": "markdown",
      "source": [
        "4. Realice un programa que lea dos números reales y determine si el primero es múltiplo del segundo."
      ],
      "metadata": {
        "id": "Yazdwaw8ykCS"
      }
    },
    {
      "cell_type": "code",
      "source": [
        "a : int\n",
        "a = int(input(\"Ingresa un numero real: \"))\n",
        "b : int\n",
        "b = int(input(\"Ingresa otro numero real: \"))\n",
        "multiplo = a % b\n",
        "\n",
        "if multiplo == 0:\n",
        "  print(\"El primer numero es multiplo del segundo\")\n",
        "else:\n",
        "  print(\"El primer numero NO es multiplo del segundo\")"
      ],
      "metadata": {
        "id": "1ofpAW3KyniC",
        "colab": {
          "base_uri": "https://localhost:8080/"
        },
        "outputId": "6d432547-d59c-4bf9-d664-47a9c8beb662"
      },
      "execution_count": null,
      "outputs": [
        {
          "output_type": "stream",
          "name": "stdout",
          "text": [
            "Ingresa un numero real: 10\n",
            "Ingresa otro numero real: 8\n",
            "El primer numero NO es multiplo del segundo\n"
          ]
        }
      ]
    },
    {
      "cell_type": "markdown",
      "source": [
        "5. Dado un número real x, construya un programa que permita determinar si el número es positivo, negativo o cero. Para cada caso de debe imprimir el texto que se especifica a continuación:\n",
        "- Positivo: \"El número x es positivo\"\n",
        "- Negativo: \"El número x es negativo\"\n",
        "- Cero (0): \"El número x es el neutro para la suma\""
      ],
      "metadata": {
        "id": "LXVDwMltynxL"
      }
    },
    {
      "cell_type": "code",
      "source": [
        "x : int\n",
        "x = int(input(\"Ingresa un número: \"))\n",
        "\n",
        "if x > 0:\n",
        "  print(\"El número x es positivo\")\n",
        "else:\n",
        "  if x < 0:\n",
        "    print(\"El número x es negativo\")\n",
        "  if x == 0:\n",
        "    print(\"El número x es el neutro para la suma\")\n"
      ],
      "metadata": {
        "id": "ZT5Z8k1jyzrr",
        "colab": {
          "base_uri": "https://localhost:8080/"
        },
        "outputId": "fc730e79-8fbc-45a4-dd3d-716f9e52c9b8"
      },
      "execution_count": null,
      "outputs": [
        {
          "output_type": "stream",
          "name": "stdout",
          "text": [
            "Ingresa un número: 0\n",
            "El número x es el neutro para la suma\n"
          ]
        }
      ]
    },
    {
      "cell_type": "markdown",
      "source": [
        "6. Dado el centro y el radio de un círculo, determinar si un punto de R2 pertenece o no al interior del círculo."
      ],
      "metadata": {
        "id": "OxfepGoxy0Ba"
      }
    },
    {
      "cell_type": "code",
      "source": [
        "h : int\n",
        "h = int(input(\"Ingresa la coordenada X del centro: \"))\n",
        "k : int\n",
        "k = int(input(\"ingresa la coordenada Y del centro: \"))\n",
        "r : int\n",
        "r = int(input(\"ingresa el radio de la circunferencia: \"))\n",
        "x : int\n",
        "x = int(input(\"Ingresa el punto en X a verificar: \"))\n",
        "y : int\n",
        "y = int(input(\"Ingresa el punto en Y a verificar: \"))\n",
        "\n",
        "ecuacion = (x - h)**2 + (y - k)**2\n",
        "\n",
        "if ecuacion <= r**2:\n",
        "  print(\"el punto pertenece al interior de la circunferencia\")\n",
        "else:\n",
        "  print(\"el punto no pertenece al interior de la circunferencia\")"
      ],
      "metadata": {
        "id": "8C6vf0CHy2y7",
        "colab": {
          "base_uri": "https://localhost:8080/"
        },
        "outputId": "c934960c-d5df-47bc-e20a-e3a6991b59e5"
      },
      "execution_count": null,
      "outputs": [
        {
          "output_type": "stream",
          "name": "stdout",
          "text": [
            "ingresa la coordenada en X del centro: 0\n",
            "ingresa la coordenada en Y del centro: 0\n",
            "ingresa el radio de la circunferencia: 1\n",
            "Ingresa el punto en X a verificar: 2\n",
            "Ingresa el punto en Y a verificar: 2\n",
            "el punto no pertenece a la recta\n"
          ]
        }
      ]
    },
    {
      "cell_type": "markdown",
      "source": [
        "7. Dadas tres longitudes positivas, determinar si con esas longitudes se puede construir un triángulo."
      ],
      "metadata": {
        "id": "F3FLT3CSy3SS"
      }
    },
    {
      "cell_type": "code",
      "source": [
        "lado1 : int\n",
        "lado1 = int(input(\"Ingresa el valor del primer lado: \"))\n",
        "lado2 : int\n",
        "lado2 = int(input(\"Ingresa el valor del segundo lado: \"))\n",
        "lado3 : int\n",
        "lado3 = int(input(\"Ingresa el valor del tercer lado: \"))\n",
        "\n",
        "if lado1 + lado2 > lado3 and lado1 + lado3 > lado2 and lado2 + lado3 > lado1:\n",
        "  print(\"Es un triangulo posible\")\n",
        "else:\n",
        "  print(\"No es un triangulo posible\")"
      ],
      "metadata": {
        "colab": {
          "base_uri": "https://localhost:8080/"
        },
        "id": "WSYrMFk9psGI",
        "outputId": "162fb150-87e0-403e-c3b2-6da67a79746c"
      },
      "execution_count": null,
      "outputs": [
        {
          "output_type": "stream",
          "name": "stdout",
          "text": [
            "Ingresa el valor del primer lado: 10\n",
            "Ingresa el valor del segundo lado: 20\n",
            "Ingresa el valor del tercer lado: 30\n",
            "no es posible\n"
          ]
        }
      ]
    },
    {
      "cell_type": "markdown",
      "source": [
        "8. Escriba un programa que reciba el nombre en minúsculas de un país de America y retorne la ciudad capital, si el país no pertenece al continente debe arrojar país no identificado (Utilice match-case)."
      ],
      "metadata": {
        "id": "4MnO_imJy6wT"
      }
    },
    {
      "cell_type": "code",
      "source": [
        "Pais = input(\"Ingresa un pais de America EN MINUSCULAS (y si se da el caso, sin tildes tambien porfa:3):\")\n",
        "\n",
        "match Pais:\n",
        "  case \"canada\":\n",
        "    print(\"Su capital es Ottawa\")\n",
        "  case \"estados unidos\":\n",
        "    print(\"Su capital es Washington D.C.\")\n",
        "  case \"mexico\":\n",
        "    print(\"Su capital es Ciudad de México\")\n",
        "  case \"belice\":\n",
        "    print(\"Su capital es Belmopán\")\n",
        "  case \"costa rica\":\n",
        "    print(\"Su capital es San José\")\n",
        "  case \"el salvador\":\n",
        "    print(\"Su capital es San Salvador\")\n",
        "  case \"guatemala\":\n",
        "    print(\"Su capital es Ciudad de Guatemala\")\n",
        "  case \"honduras\":\n",
        "    print(\"Su capital es Tegucigalpa\")\n",
        "  case \"nicaragua\":\n",
        "    print(\"Su capital es Managua\")\n",
        "  case \"panama\":\n",
        "    print(\"Su capital es Panamá\")\n",
        "  case \"argentina\":\n",
        "    print(\"Su capital es Buenos Aires\")\n",
        "  case \"bolivia\":\n",
        "    print(\"Su capital es Sucre\")\n",
        "  case \"brasil\":\n",
        "    print(\"Su capital es Brasilia\")\n",
        "  case \"chile\":\n",
        "    print(\"Su capital es Santiago de Chile\")\n",
        "  case \"colombia\":\n",
        "    print(\"Su capital es Bogotá ( la neverita ;) ) \")\n",
        "  case \"ecuador\":\n",
        "    print(\"Su capital es Quito\")\n",
        "  case \"paraguay\":\n",
        "    print(\"Su capital es Asunción\")\n",
        "  case \"peru\":\n",
        "    print(\"Su capital es Lima\")\n",
        "  case \"surinam\":\n",
        "    print(\"Su capital es Parabarimo\")\n",
        "  case \"trinidad y tobago\":\n",
        "    print(\"Su capital es Puerto España\")\n",
        "  case \"uruguay\":\n",
        "    print(\"Su capital es Montevideo\")\n",
        "  case \"venezuela\":\n",
        "    print(\"Su capital es Caracas\")\n",
        "  case \"antigua y barbuda\":\n",
        "    print(\"Su capital es Saint John\")\n",
        "  case \"bahamas\":\n",
        "    print(\"Su capital es Nasáu\")\n",
        "  case \"barbados\":\n",
        "    print(\"Su capital es Bridgetown\")\n",
        "  case \"cuba\":\n",
        "    print(\"Su capital es La Habana\")\n",
        "  case \"dominica\":\n",
        "    print(\"Su capital es Roseau\")\n",
        "  case \"granada\":\n",
        "    print(\"Su capital es Saint George\")\n",
        "  case \"guyana\":\n",
        "    print(\"Su capital es Georgetown\")\n",
        "  case \"haiti\":\n",
        "    print(\"Su capital es Puerto Príncipe\")\n",
        "  case \"jamaica\":\n",
        "    print(\"Su capital es Kingstone\")\n",
        "  case \"republica dominicana\":\n",
        "    print(\"Su capital es Santo Domingo\")\n",
        "  case \"san cristobal y nieves\":\n",
        "    print(\"Su capital es Basseterre\")\n",
        "  case \"san vicente y las granadinas\":\n",
        "    print(\"Su capital es Kingstown\")\n",
        "  case \"santa lucia\":\n",
        "    print(\"Su capital es Castries\")\n",
        "  case _:\n",
        "    print(\"País no identificado\")\n"
      ],
      "metadata": {
        "id": "nc-Bvo64mPdc",
        "colab": {
          "base_uri": "https://localhost:8080/"
        },
        "outputId": "3c00049c-81de-4c22-8537-4f7fe0e03bbd"
      },
      "execution_count": null,
      "outputs": [
        {
          "output_type": "stream",
          "name": "stdout",
          "text": [
            "Ingresa un pais de America EN MINUSCULAS (y si se da el caso, sin tildes tambien porfa:3):granada\n",
            "Su capital es Saint George\n"
          ]
        }
      ]
    }
  ]
}